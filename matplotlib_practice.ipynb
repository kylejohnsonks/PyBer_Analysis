{
 "cells": [
  {
   "cell_type": "code",
   "execution_count": null,
   "id": "a258f469",
   "metadata": {},
   "outputs": [],
   "source": [
    "#use magic to set plots to appear inline i.e. inside the cell \n",
    "%matplotlib inline"
   ]
  },
  {
   "cell_type": "code",
   "execution_count": null,
   "id": "8bdcd4b9",
   "metadata": {},
   "outputs": [],
   "source": [
    "#dependencies\n",
    "import matplotlib.pyplot as plt"
   ]
  },
  {
   "cell_type": "code",
   "execution_count": null,
   "id": "bac16adf",
   "metadata": {},
   "outputs": [],
   "source": [
    "# Set the x-axis to a list of strings for each month.\n",
    "x_axis = [\"Jan\", \"Feb\", \"Mar\", \"April\", \"May\", \"June\", \"July\", \"Aug\", \"Sept\", \"Oct\", \"Nov\", \"Dec\"]\n",
    "\n",
    "# Set the y-axis to a list of floats as the total fare in US dollars accumulated for each month.\n",
    "y_axis = [10.02, 23.24, 39.20, 35.42, 32.34, 27.04, 43.82, 10.56, 11.85, 27.90, 20.71, 20.09]"
   ]
  },
  {
   "cell_type": "code",
   "execution_count": null,
   "id": "fd7247c6",
   "metadata": {},
   "outputs": [],
   "source": [
    "#Create the plot\n",
    "plt.plot(x_axis, y_axis)\n",
    "plt.show()"
   ]
  },
  {
   "cell_type": "code",
   "execution_count": null,
   "id": "abe6322e",
   "metadata": {},
   "outputs": [],
   "source": [
    "# Create the plot with ax.plt()\n",
    "ax=plt.axes()\n",
    "ax.plot(x_axis,y_axis, marker=\"D\", label=\"Boston\")\n",
    "ax.set_ylim(0,50)\n",
    "ax.set_xlim(0,11)\n",
    "ax.grid()\n",
    "ax.legend()\n",
    "ax.set_title(\"PyBer Fare by Month Also\")\n",
    "ax.set_xlabel(\"Month\")\n",
    "ax.set_ylabel(\"Fare in bucks US\")\n",
    "plt.show()"
   ]
  },
  {
   "cell_type": "code",
   "execution_count": null,
   "id": "93be1487",
   "metadata": {},
   "outputs": [],
   "source": [
    "plt.plot(x_axis,y_axis, marker=\"*\", color=\"blue\", linewidth=2, label=\"Boston\")\n",
    "#create x and y asix labels\n",
    "plt.xlabel(\"Date\")\n",
    "plt.ylabel(\"Fare($)\")\n",
    "plt.ylim(0,50)\n",
    "plt.xlim(\"Jan\",\"Dec\")\n",
    "plt.title(\"PyBer Fare by Month\")\n",
    "plt.grid()\n",
    "plt.legend()\n"
   ]
  },
  {
   "cell_type": "code",
   "execution_count": null,
   "id": "6d7b092f",
   "metadata": {},
   "outputs": [],
   "source": [
    "# Set the x-axis to a list of strings for each month.\n",
    "x_axis = [\"Jan\", \"Feb\", \"Mar\", \"April\", \"May\", \"June\", \"July\", \"Aug\", \"Sept\", \"Oct\", \"Nov\", \"Dec\"]\n",
    "\n",
    "# Set the y-axis to a list of floats as the total fare in US dollars accumulated for each month.\n",
    "y_axis = [10.02, 23.24, 39.20, 35.42, 32.34, 27.04, 43.82, 10.56, 11.85, 27.90, 20.71, 20.09]"
   ]
  },
  {
   "cell_type": "code",
   "execution_count": null,
   "id": "46754662",
   "metadata": {
    "scrolled": true
   },
   "outputs": [],
   "source": [
    "plt.bar(x_axis,y_axis, color=\"green\", label=\"Boston\")\n",
    "plt.xlabel(\"Date\")\n",
    "plt.ylabel(\"Fare($)\")\n",
    "plt.title(\"PyBer Fare by Month3\")\n",
    "plt.legend()\n"
   ]
  },
  {
   "cell_type": "code",
   "execution_count": null,
   "id": "155fe62e",
   "metadata": {},
   "outputs": [],
   "source": [
    "\n",
    "plt.barh(x_axis,y_axis, color=\"magenta\", label=\"Boston\")\n",
    "plt.gca().invert_yaxis()\n",
    "plt.xlabel(\"Fare $\")\n",
    "plt.ylabel(\"Date\")\n",
    "plt.title(\"Another PyBer Fare by Month\")\n",
    "plt.legend()\n",
    "plt.xticks(np.arange(0,51, step=5))"
   ]
  },
  {
   "cell_type": "code",
   "execution_count": null,
   "id": "fa788377",
   "metadata": {},
   "outputs": [],
   "source": [
    "# Set the x-axis to a list of strings for each month.\n",
    "x_axis = [\"Jan\", \"Feb\", \"Mar\", \"April\", \"May\", \"June\", \"July\", \"Aug\", \"Sept\", \"Oct\", \"Nov\", \"Dec\"]\n",
    "\n",
    "# Set the y-axis to a list of floats as the total fare in US dollars accumulated for each month.\n",
    "y_axis = [10.02, 23.24, 39.20, 35.42, 32.34, 27.04, 43.82, 10.56, 11.85, 27.90, 20.71, 20.09]"
   ]
  },
  {
   "cell_type": "code",
   "execution_count": null,
   "id": "f727ccbf",
   "metadata": {},
   "outputs": [],
   "source": [
    "ax=plt.axes()\n",
    "ax.bar(x_axis,y_axis)\n"
   ]
  },
  {
   "cell_type": "code",
   "execution_count": null,
   "id": "722967b4",
   "metadata": {},
   "outputs": [],
   "source": [
    "fig, ax=plt.subplots()\n",
    "ax.barh(x_axis,y_axis, color=\"black\", label=\"New York\")\n",
    "ax.set_ylabel(\"Date\")\n",
    "ax.set_xlabel(\"Fare $\")\n",
    "ax.legend()\n",
    "ax.set_title(\"PyBer Fares\")\n"
   ]
  },
  {
   "cell_type": "code",
   "execution_count": null,
   "id": "7b6acf54",
   "metadata": {},
   "outputs": [],
   "source": [
    "# Set the x-axis to a list of strings for each month.\n",
    "x_axis = [\"Jan\", \"Feb\", \"Mar\", \"April\", \"May\", \"June\", \"July\", \"Aug\", \"Sept\", \"Oct\", \"Nov\", \"Dec\"]\n",
    "\n",
    "# Set the y-axis to a list of floats as the total fare in US dollars accumulated for each month.\n",
    "y_axis = [10.02, 23.24, 39.20, 35.42, 32.34, 27.04, 43.82, 10.56, 11.85, 27.90, 20.71, 20.09]"
   ]
  },
  {
   "cell_type": "code",
   "execution_count": null,
   "id": "d53b50e7",
   "metadata": {},
   "outputs": [],
   "source": [
    "#y_axis_larger=[]\n",
    "#for data in y_axis:\n",
    "#    y_axis_larger.append(data*3)\n",
    "\n",
    "plt.scatter(x_axis,y_axis, c=\"red\", label=\"Chicago\",s=[i*3 for i in y_axis])\n",
    "plt.legend()\n",
    "plt.title(\"PyBer Fare by Month\")\n",
    "plt.ylabel(\"Fare\")\n",
    "plt.xlabel(\"Date\")\n",
    "plt.ylim(0,50)"
   ]
  },
  {
   "cell_type": "code",
   "execution_count": null,
   "id": "66b72b85",
   "metadata": {},
   "outputs": [],
   "source": [
    "fig, ax=plt.subplots()\n",
    "ax.scatter(y_axis,x_axis, edgecolors=\"k\", linewidths=2, label=\"Boston\", s=[i*5 for i in y_axis], c=\"skyblue\", alpha=.8)\n",
    "ax.legend()\n",
    "ax.invert_yaxis()\n",
    "ax.set_title(\"PyBer Fare by Month\")\n",
    "ax.set_ylabel(\"Month\")\n",
    "ax.set_xlabel(\"Fare $\")"
   ]
  },
  {
   "cell_type": "code",
   "execution_count": null,
   "id": "dca574ef",
   "metadata": {},
   "outputs": [],
   "source": [
    "# Set the x-axis to a list of strings for each month.\n",
    "x_axis = [\"Jan\", \"Feb\", \"Mar\", \"April\", \"May\", \"June\", \"July\", \"Aug\", \"Sept\", \"Oct\", \"Nov\", \"Dec\"]\n",
    "\n",
    "# Set the y-axis to a list of floats as the total fare in US dollars accumulated for each month.\n",
    "y_axis = [10.02, 23.24, 39.20, 35.42, 32.34, 27.04, 43.82, 10.56, 11.85, 27.90, 20.71, 20.09]"
   ]
  },
  {
   "cell_type": "code",
   "execution_count": null,
   "id": "9c4022fc",
   "metadata": {},
   "outputs": [],
   "source": [
    "#explode_values = (0, .1, 0, 0, 0, 0,.5,0, 0, .2, 0,0)\n",
    "explode_values = (0, 0, 0, 0, 0, 0, 0.2, 0, 0, 0, 0, 0)\n",
    "plt.subplots(figsize=(8,8))\n",
    "colors = [\"slateblue\", \"magenta\", \"lightblue\", \"green\", \"yellowgreen\", \"greenyellow\", \"yellow\", \"orange\", \"gold\", \"indianred\", \"tomato\", \"mistyrose\"]\n",
    "\n",
    "plt.pie(y_axis, \n",
    "        labels=x_axis,\n",
    "        colors=colors,\n",
    "        autopct=\"%.1f%%\",\n",
    "        explode=explode_values)\n",
    "plt.show()"
   ]
  },
  {
   "cell_type": "code",
   "execution_count": null,
   "id": "5c0f317d",
   "metadata": {},
   "outputs": [],
   "source": [
    "# Set the x-axis to a list of strings for each month.\n",
    "x_axis = [\"Jan\", \"Feb\", \"Mar\", \"April\", \"May\", \"June\", \"July\", \"Aug\", \"Sept\", \"Oct\", \"Nov\", \"Dec\"]\n",
    "\n",
    "# Set the y-axis to a list of floats as the total fare in US dollars accumulated for each month.\n",
    "y_axis = [10.02, 23.24, 39.20, 35.42, 32.34, 27.04, 43.82, 10.56, 11.85, 27.90, 20.71, 20.09]"
   ]
  },
  {
   "cell_type": "code",
   "execution_count": null,
   "id": "0122ca44",
   "metadata": {},
   "outputs": [],
   "source": [
    "fig, ax=plt.subplots(figsize=(8,8))\n",
    "ax.pie(y_axis, \n",
    "    labels=x_axis,\n",
    "    explode=[0,0,.15,0,0,0,.25,0,0,0,0,0],\n",
    "    autopct=\"%.1f%%\",\n",
    "    colors=colors,\n",
    "    startangle=-90,\n",
    "    shadow=1\n",
    "      )\n",
    "\n",
    "ax.set_title(\"PyBer Fares\")\n",
    "ax.invert_yaxis()"
   ]
  },
  {
   "cell_type": "code",
   "execution_count": null,
   "id": "e57cb3c5",
   "metadata": {},
   "outputs": [],
   "source": [
    "%matplotlib inline\n",
    "\n",
    "# Import dependencies.\n",
    "import matplotlib.pyplot as plt\n",
    "import statistics as stat"
   ]
  },
  {
   "cell_type": "code",
   "execution_count": null,
   "id": "196ee95a",
   "metadata": {},
   "outputs": [],
   "source": [
    "# Set the x-axis to a list of strings for each month.\n",
    "x_axis = [\"Jan\", \"Feb\", \"Mar\", \"April\", \"May\", \"June\", \"July\", \"Aug\", \"Sept\", \"Oct\", \"Nov\", \"Dec\"]\n",
    "\n",
    "# Set the y-axis to a list of floats as the total fare in US dollars accumulated for each month.\n",
    "y_axis = [10.02, 23.24, 39.20, 35.42, 32.34, 27.04, 43.82, 10.56, 11.85, 27.90, 20.71, 20.09]"
   ]
  },
  {
   "cell_type": "code",
   "execution_count": null,
   "id": "951dee21",
   "metadata": {},
   "outputs": [],
   "source": [
    "stdev=stat.stdev(y_axis)\n",
    "stdev"
   ]
  },
  {
   "cell_type": "code",
   "execution_count": null,
   "id": "7c05ad22",
   "metadata": {},
   "outputs": [],
   "source": [
    "plt.errorbar(x_axis, y_axis, yerr=stdev, capsize=3)"
   ]
  },
  {
   "cell_type": "code",
   "execution_count": null,
   "id": "5ed907a1",
   "metadata": {},
   "outputs": [],
   "source": [
    "fig, ax = plt.subplots()\n",
    "ax.errorbar(x_axis, y_axis, yerr=stdev, capsize=3)\n",
    "plt.show()"
   ]
  },
  {
   "cell_type": "code",
   "execution_count": null,
   "id": "2e78b6ca",
   "metadata": {},
   "outputs": [],
   "source": [
    "import numpy as np\n",
    "plt.bar(x_axis,y_axis,yerr=stdev,capsize=3)\n",
    "plt.yticks(np.arange(0,51, step=5))"
   ]
  },
  {
   "cell_type": "code",
   "execution_count": null,
   "id": "112c83a8",
   "metadata": {},
   "outputs": [],
   "source": [
    "from matplotlib.ticker import MultipleLocator\n",
    "fig, ax=plt.subplots(figsize=(10,10))\n",
    "ax.barh(x_axis,y_axis)\n",
    "ax.set_xticks(np.arange(0,51,step=5))\n",
    "\n",
    "ax.xaxis.set_minor_locator(MultipleLocator(1))\n",
    "plt.show()"
   ]
  },
  {
   "cell_type": "code",
   "execution_count": 1,
   "id": "105389e5",
   "metadata": {},
   "outputs": [],
   "source": [
    "%matplotlib inline\n",
    "import pandas as pd\n",
    "import matplotlib.pyplot as plt\n",
    "import numpy as np\n",
    "from matplotlib.ticker import MultipleLocator\n"
   ]
  },
  {
   "cell_type": "code",
   "execution_count": null,
   "id": "e025219f",
   "metadata": {},
   "outputs": [],
   "source": []
  }
 ],
 "metadata": {
  "kernelspec": {
   "display_name": "PythonData",
   "language": "python",
   "name": "pythondata"
  },
  "language_info": {
   "codemirror_mode": {
    "name": "ipython",
    "version": 3
   },
   "file_extension": ".py",
   "mimetype": "text/x-python",
   "name": "python",
   "nbconvert_exporter": "python",
   "pygments_lexer": "ipython3",
   "version": "3.7.6"
  }
 },
 "nbformat": 4,
 "nbformat_minor": 5
}
